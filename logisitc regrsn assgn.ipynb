{
 "cells": [
  {
   "cell_type": "markdown",
   "id": "a88e8917-6b48-442b-a11f-ca1afcb2b1e9",
   "metadata": {},
   "source": [
    "##Q1. Explain the difference between linear regression and logistic regression models. Provide an example of\n",
    "a scenario where logistic regression would be more appropriate."
   ]
  },
  {
   "cell_type": "markdown",
   "id": "1e02023e-363e-4e2a-b7e3-7fc9bf7bf09d",
   "metadata": {},
   "source": [
    "Linear regression is used to estimate the dependent variable in case of a change in independent variables. For example, predict the price of houses. Whereas logistic regression is used to calculate the probability of an event. For example, classify if tissue is benign or malignant"
   ]
  },
  {
   "cell_type": "markdown",
   "id": "71e086f3-73fa-47af-b0e7-2bf9fbb81351",
   "metadata": {},
   "source": [
    "Q2. What is the cost function used in logistic regression, and how is it optimized?"
   ]
  },
  {
   "cell_type": "markdown",
   "id": "426b3010-caff-4dd0-8a12-545030c6d7c5",
   "metadata": {},
   "source": [
    "Instead of Mean Squared Error, we use a cost function called Cross-Entropy, also known as Log Loss. Cross-entropy loss can be divided into two separate cost functions: one for y=1 and one for y=0."
   ]
  },
  {
   "cell_type": "markdown",
   "id": "2704dcfb-48f3-43b5-9e30-6c8ac3c42b46",
   "metadata": {},
   "source": [
    "Q3. Explain the concept of regularization in logistic regression and how it helps prevent overfitting.\n"
   ]
  },
  {
   "cell_type": "markdown",
   "id": "ab564a97-aba5-4ae3-9d08-8b7826dda1c6",
   "metadata": {},
   "source": [
    "Regularization helps you avoid overfitting by adding a penalty term to the cost function of your model, which measures how well your model fits the data. The penalty term reduces the complexity of your model by shrinking or eliminating some of the coefficients of your input variables"
   ]
  },
  {
   "cell_type": "markdown",
   "id": "ea92c284-4703-4509-b028-aff73ec55624",
   "metadata": {},
   "source": [
    "Q4. What is the ROC curve, and how is it used to evaluate the performance of the logistic regression\n",
    "model?"
   ]
  },
  {
   "cell_type": "markdown",
   "id": "332ae85b-1473-4579-a0ed-b0553fff7411",
   "metadata": {},
   "source": [
    "\n",
    "An ROC curve (receiver operating characteristic curve) is a graph showing the performance of a classification model at all classification thresholds. This curve plots two parameters: True Positive Rate. False Positive Rate"
   ]
  },
  {
   "cell_type": "markdown",
   "id": "4998b317-6a45-4169-ac9f-4bceedccb97d",
   "metadata": {},
   "source": [
    "Q5. What are some common techniques for feature selection in logistic regression? How do these\n",
    "techniques help improve the model's performance?"
   ]
  },
  {
   "cell_type": "markdown",
   "id": "6e09b80d-937d-481c-819e-dac0e7c445a6",
   "metadata": {},
   "source": [
    "There are several types of statistical tests that can be used for filter feature selection, including chi-square, ANOVA, and mutual information. These tests measure the degree of association between the features and the target variable, and can help identify the most relevant features for the model"
   ]
  },
  {
   "cell_type": "markdown",
   "id": "1ccd9c37-d409-447b-998d-1eb4d9dba791",
   "metadata": {},
   "source": [
    "Q6. How can you handle imbalanced datasets in logistic regression? What are some strategies for dealing\n",
    "with class imbalance?"
   ]
  },
  {
   "cell_type": "markdown",
   "id": "83e08cb9-67c3-43d7-8ab3-93ce8ae608df",
   "metadata": {},
   "source": [
    "One of the widely adopted class imbalance techniques for dealing with highly unbalanced datasets is called resampling. It consists of removing samples from the majority class (under-sampling) and/or adding more examples from the minority class (over-sampling)."
   ]
  },
  {
   "cell_type": "markdown",
   "id": "b30533b5-5ae9-4afa-85e9-7879b7aaf892",
   "metadata": {},
   "source": [
    "Q7. Can you discuss some common issues and challenges that may arise when implementing logistic\n",
    "regression, and how they can be addressed? For example, what can be done if there is multicollinearity\n",
    "among the independent variables?"
   ]
  },
  {
   "cell_type": "markdown",
   "id": "00119ca7-5336-4201-bedc-45cfeafa490e",
   "metadata": {},
   "source": [
    "Logistic regression faces challenges such as multicollinearity, overfitting, and assuming a linear relationship between predictors and outcome log-odds. These issues can lead to unstable coefficient estimates, overfitting, and difficulty generalizing the model to new data\n"
   ]
  }
 ],
 "metadata": {
  "kernelspec": {
   "display_name": "Python 3 (ipykernel)",
   "language": "python",
   "name": "python3"
  },
  "language_info": {
   "codemirror_mode": {
    "name": "ipython",
    "version": 3
   },
   "file_extension": ".py",
   "mimetype": "text/x-python",
   "name": "python",
   "nbconvert_exporter": "python",
   "pygments_lexer": "ipython3",
   "version": "3.10.8"
  }
 },
 "nbformat": 4,
 "nbformat_minor": 5
}
